{
 "cells": [
  {
   "cell_type": "markdown",
   "metadata": {},
   "source": [
    "# Linear regression"
   ]
  },
  {
   "cell_type": "code",
   "execution_count": 199,
   "metadata": {},
   "outputs": [],
   "source": [
    "import pandas as pd\n",
    "import numpy as np\n",
    "import sklearn\n",
    "from sklearn import linear_model\n",
    "from sklearn.utils import shuffle\n",
    "import matplotlib.pyplot as pyplot\n",
    "import pickle\n",
    "from matplotlib import style"
   ]
  },
  {
   "cell_type": "code",
   "execution_count": 200,
   "metadata": {},
   "outputs": [],
   "source": [
    "data = pd.read_csv(\"student-mat.csv\", sep=\";\")\n",
    "data = data[[\"G1\",\"G2\",\"G3\",\"studytime\",\"failures\",\"absences\"]]"
   ]
  },
  {
   "cell_type": "code",
   "execution_count": 201,
   "metadata": {},
   "outputs": [],
   "source": [
    "predict = \"G3\""
   ]
  },
  {
   "cell_type": "code",
   "execution_count": 202,
   "metadata": {},
   "outputs": [],
   "source": [
    "X = np.array(data.drop([predict], 1))\n",
    "y = np.array(data[predict])\n",
    "x_train, x_test,y_train, y_test = sklearn.model_selection.train_test_split(X,y, test_size = 0.1)\n",
    "\n",
    "#best = 0"
   ]
  },
  {
   "cell_type": "code",
   "execution_count": 206,
   "metadata": {},
   "outputs": [
    {
     "name": "stdout",
     "output_type": "stream",
     "text": [
      "0.954987995444335\n",
      "Co:  [ 0.16121803  0.97391014 -0.20287282 -0.27564449  0.03816628]\n",
      "Intercept:  -1.526505600865807\n",
      "19.008258866213705 [18 18  1  0  8] 18\n",
      "6.236955164642091 [7 8 2 3 2] 9\n",
      "8.199016809265308 [8 9 2 0 2] 10\n",
      "4.201384959934376 [ 5  5  2  0 12] 5\n",
      "7.880141631590883 [6 9 1 1 4] 8\n",
      "11.321707429533703 [12 12  4  0  1] 12\n",
      "7.45410435018621 [8 8 2 0 8] 6\n",
      "12.900747520322943 [13 13  2  0  2] 13\n",
      "18.488014385791402 [18 18  3  0  5] 19\n",
      "9.613888851346715 [ 7 10  2  1 25] 11\n",
      "11.909731554423288 [11 12  2  0 10] 13\n",
      "7.148774113582114 [8 8 2 0 0] 9\n",
      "9.064333703977802 [11  9  2  0 12] 9\n",
      "12.824414961171918 [13 13  2  0  0] 12\n",
      "20.058501561896897 [18 19  1  0 10] 19\n",
      "16.306132028876824 [16 16  2  0  2] 16\n",
      "12.663196928186128 [12 13  2  0  0] 13\n",
      "5.242608628379866 [7 6 1 0 0] 0\n",
      "14.426091400279766 [15 14  2  0  8] 14\n",
      "4.366163881217323 [ 6  5  1  1 14] 5\n",
      "8.42801448671838 [8 9 2 0 8] 10\n",
      "9.013284810922269 [10 10  4  0  0] 10\n",
      "7.7585933962806095 [7 9 3 0 0] 8\n",
      "9.33414497878327 [ 9 10  2  0  2] 9\n",
      "17.20370960625797 [16 17  2  0  0] 17\n",
      "12.816703236997874 [13 12  1  0 20] 12\n",
      "13.138298112459758 [14 13  2  0  4] 13\n",
      "10.421213939328752 [ 9  9  2  0 56] 8\n",
      "9.325592064099528 [ 8 10  2  0  6] 10\n",
      "16.28204918293618 [16 16  4  0 12] 16\n",
      "8.318580054389006 [10  9  3  0  2] 8\n",
      "15.772645305329352 [17 15  1  0  4] 16\n",
      "7.691654942323025 [ 9  8  2  0 10] 8\n",
      "13.907759530033463 [11 14  1  0  6] 14\n",
      "11.834974893382844 [14 12  4  0  6] 13\n",
      "3.450639283958994 [3 5 2 1 8] 5\n",
      "10.554158622135995 [11 11  2  0  0] 10\n",
      "9.817799077740641 [12 10  2  0  2] 11\n",
      "8.970198884970745 [10 10  3  2  8] 10\n",
      "11.92767857430047 [14 11  1  0 18] 13\n"
     ]
    }
   ],
   "source": [
    "'''for _ in range(30):\n",
    "    x_train, x_test,y_train, y_test = sklearn.model_selection.train_test_split(X,y, test_size = 0.1)\n",
    "\n",
    "    \n",
    "    linear = linear_model.LinearRegression()\n",
    "\n",
    "    linear.fit(x_train,y_train)\n",
    "    acc = linear.score(x_test, y_test)\n",
    "    print(acc)\n",
    "    \n",
    "    if acc > best:\n",
    "        best = acc\n",
    "        with open(\"studentmodel.pickle\",\"wb\") as f:\n",
    "            pickle.dump(linear,f)'''\n",
    "print(best)\n",
    "pickle_in = open(\"studentmodel.pickle\",\"rb\")\n",
    "linear = pickle.load(pickle_in)\n",
    "\n",
    "print(\"Co: \", linear.coef_)\n",
    "print(\"Intercept: \", linear.intercept_)\n",
    "\n",
    "predictions = linear.predict(x_test)\n",
    "\n",
    "for x in range(len(predictions)):\n",
    "    print(predictions[x],x_test[x],y_test[x])"
   ]
  },
  {
   "cell_type": "code",
   "execution_count": 210,
   "metadata": {},
   "outputs": [
    {
     "data": {
      "image/png": "[encoded data removed]",
      "text/plain": [
       "<Figure size 432x288 with 1 Axes>"
      ]
     },
     "metadata": {},
     "output_type": "display_data"
    }
   ],
   "source": [
    "p=\"G2\"\n",
    "\n",
    "style.use(\"ggplot\")\n",
    "pyplot.scatter(data[p],data[\"G3\"])\n",
    "pyplot.xlabel(p)\n",
    "pyplot.ylabel(\"final Grade\")\n",
    "pyplot.show()"
   ]
  },
  {
   "cell_type": "code",
   "execution_count": null,
   "metadata": {},
   "outputs": [],
   "source": []
  }
 ],
 "metadata": {
  "kernelspec": {
   "display_name": "Python 3",
   "language": "python",
   "name": "python3"
  },
  "language_info": {
   "codemirror_mode": {
    "name": "ipython",
    "version": 3
   },
   "file_extension": ".py",
   "mimetype": "text/x-python",
   "name": "python",
   "nbconvert_exporter": "python",
   "pygments_lexer": "ipython3",
   "version": "3.6.10"
  }
 },
 "nbformat": 4,
 "nbformat_minor": 4
}
