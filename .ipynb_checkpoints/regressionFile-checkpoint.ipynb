{
 "cells": [
  {
   "cell_type": "markdown",
   "metadata": {},
   "source": [
    "# Linear regression"
   ]
  },
  {
   "cell_type": "code",
   "execution_count": 5,
   "metadata": {},
   "outputs": [],
   "source": [
    "import pandas as pd\n",
    "import numpy as np\n",
    "import sklearn\n",
    "from sklearn import linear_model\n",
    "from sklearn.utils import shuffle"
   ]
  },
  {
   "cell_type": "code",
   "execution_count": 15,
   "metadata": {},
   "outputs": [
    {
     "name": "stdout",
     "output_type": "stream",
     "text": [
      "   G1  G2  G3  studytime  failures  absences\n",
      "0   5   6   6          2         0         6\n",
      "1   5   5   6          2         0         4\n",
      "2   7   8  10          2         3        10\n",
      "3  15  14  15          3         0         2\n",
      "4   6  10  10          2         0         4\n"
     ]
    }
   ],
   "source": [
    "data = pd.read_csv(\"student-mat.csv\", sep=\";\")\n",
    "data = data[[\"G1\",\"G2\",\"G3\",\"studytime\",\"failures\",\"absences\"]]\n",
    "print(data.head())"
   ]
  },
  {
   "cell_type": "code",
   "execution_count": 16,
   "metadata": {},
   "outputs": [],
   "source": [
    "predict = \"G3\""
   ]
  },
  {
   "cell_type": "code",
   "execution_count": 17,
   "metadata": {},
   "outputs": [],
   "source": [
    "X = np.array(data.drop([predict], 1))\n",
    "y = np.array(data[predict])"
   ]
  },
  {
   "cell_type": "code",
   "execution_count": 22,
   "metadata": {},
   "outputs": [],
   "source": [
    "x_train, x_test,y_train, y_test = sklearn.model_selection.train_test_split(X,y, test_size = 0.1)"
   ]
  },
  {
   "cell_type": "code",
   "execution_count": 23,
   "metadata": {},
   "outputs": [
    {
     "name": "stdout",
     "output_type": "stream",
     "text": [
      "0.7484654658785395\n"
     ]
    }
   ],
   "source": [
    "linear = linear_model.LinearRegression()\n",
    "\n",
    "linear.fit(x_train,y_train)\n",
    "acc = linear.score(x_test, y_test)\n",
    "\n",
    "print(acc)\n",
    "\n",
    "print(\"Co: \", +linear.coef)"
   ]
  },
  {
   "cell_type": "code",
   "execution_count": null,
   "metadata": {},
   "outputs": [],
   "source": []
  }
 ],
 "metadata": {
  "kernelspec": {
   "display_name": "Python 3",
   "language": "python",
   "name": "python3"
  },
  "language_info": {
   "codemirror_mode": {
    "name": "ipython",
    "version": 3
   },
   "file_extension": ".py",
   "mimetype": "text/x-python",
   "name": "python",
   "nbconvert_exporter": "python",
   "pygments_lexer": "ipython3",
   "version": "3.6.10"
  }
 },
 "nbformat": 4,
 "nbformat_minor": 4
}
