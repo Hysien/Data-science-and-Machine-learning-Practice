{
 "cells": [
  {
   "cell_type": "code",
   "execution_count": 35,
   "metadata": {},
   "outputs": [],
   "source": [
    "import tensorflow as tf\n",
    "from tensorflow import keras\n",
    "import numpy as np\n",
    "import matplotlib.pyplot as plt"
   ]
  },
  {
   "cell_type": "code",
   "execution_count": 36,
   "metadata": {},
   "outputs": [],
   "source": [
    "data = keras.datasets.fashion_mnist\n",
    "\n",
    "(train_images, train_labels), (test_images, test_labels) = data.load_data()"
   ]
  },
  {
   "cell_type": "code",
   "execution_count": 37,
   "metadata": {},
   "outputs": [],
   "source": [
    "class_names = ['T-shirt/top', 'Trouser', 'Pullover', 'Dress', 'Coat',\n",
    "               'Sandal', 'Shirt', 'Sneaker', 'Bag', 'Ankle boot']\n",
    "\n",
    "train_images = train_images/255.0\n",
    "test_images = test_images/255.0\n",
    "\n",
    "#print(train_images[0])"
   ]
  },
  {
   "cell_type": "code",
   "execution_count": 38,
   "metadata": {},
   "outputs": [],
   "source": [
    "#plt.imshow(train_images[3], cmap = plt.cm.binary)\n",
    "#plt.show()\n",
    "\n",
    "model = keras.Sequential([keras.layers.Flatten(input_shape=(28,28)),\n",
    "                         keras.layers.Dense(128, activation=\"relu\"),\n",
    "                         keras.layers.Dense(10, activation=\"softmax\")])"
   ]
  },
  {
   "cell_type": "code",
   "execution_count": 39,
   "metadata": {},
   "outputs": [],
   "source": [
    "model.compile(optimizer = \"adam\", loss=\"sparse_categorical_crossentropy\", metrics=[\"accuracy\"])"
   ]
  },
  {
   "cell_type": "code",
   "execution_count": 40,
   "metadata": {},
   "outputs": [
    {
     "name": "stdout",
     "output_type": "stream",
     "text": [
      "Train on 60000 samples\n",
      "Epoch 1/5\n",
      "60000/60000 [==============================] - 31s 511us/sample - loss: 0.5005 - accuracy: 0.8248s - loss: 0.5015 - accuracy: 0. - ETA: 0s - loss: 0.5010 - ac\n",
      "Epoch 2/5\n",
      "60000/60000 [==============================] - 46s 760us/sample - loss: 0.3744 - accuracy: 0.8642 ETA: 28s - loss: 0.3935 - accuracy:  - ETA: 30s - loss: 0.3897 - - ETA - ETA: 23s - loss: 0.3843 - accuracy: - ETA: 23s - loss: 0.3844 - accuracy: 0.86 - ETA: 23s - loss: 0.3843 - accuracy:  - ETA: 16s - loss:  - ETA: 11s - loss: 0.3777 - - ETA: 7s - loss: 0.3764 - ac - ETA: 7s - loss: 0.3762  - - ETA: 5s - loss: 0.3756 - ac - ETA: 4s - l - ETA: 2s - - ETA: 1s - loss: 0.3742 - accuracy:  - ETA: 1s - - ETA: 0s - loss: 0.3747 - accuracy\n",
      "Epoch 3/5\n",
      "60000/60000 [==============================] - 35s 578us/sample - loss: 0.3344 - accuracy: 0.8787 1s - los\n",
      "Epoch 4/5\n",
      "60000/60000 [==============================] - 32s 527us/sample - loss: 0.3107 - accuracy: 0.8858\n",
      "Epoch 5/5\n",
      "60000/60000 [==============================] - 26s 426us/sample - loss: 0.2945 - accuracy: 0.8911\n",
      "10000/10000 [==============================] - 3s 284us/sample - loss: 0.3574 - accuracy: 0.8663\n",
      "tested Acc: 0.8663\n"
     ]
    }
   ],
   "source": [
    "model.fit(train_images, train_labels, epochs=5)\n",
    "\n",
    "test_loss, test_acc = model.evaluate(test_images, test_labels)\n",
    "\n",
    "print(\"tested Acc:\", test_acc)"
   ]
  },
  {
   "cell_type": "code",
   "execution_count": 44,
   "metadata": {},
   "outputs": [
    {
     "data": {
      "image/png": "[encoded data removed]",
      "text/plain": [
       "<Figure size 432x288 with 1 Axes>"
      ]
     },
     "metadata": {
      "needs_background": "light"
     },
     "output_type": "display_data"
    },
    {
     "data": {
      "image/png": "[encoded data removed]",
      "text/plain": [
       "<Figure size 432x288 with 1 Axes>"
      ]
     },
     "metadata": {
      "needs_background": "light"
     },
     "output_type": "display_data"
    },
    {
     "data": {
      "image/png": "[encoded data removed]",
      "text/plain": [
       "<Figure size 432x288 with 1 Axes>"
      ]
     },
     "metadata": {
      "needs_background": "light"
     },
     "output_type": "display_data"
    }
   ],
   "source": [
    "prediction = model.predict(test_images)\n",
    "\n",
    "for i in range(3):\n",
    "    plt.grid(False)\n",
    "    plt.imshow(train_images[i], cmap = plt.cm.binary)\n",
    "    plt.xlabel(\"Actual: \" + class_names[test_labels[i]])\n",
    "    plt.title(\"Prediction \" + class_names[np.argmax(prediction[i])])\n",
    "    \n",
    "    plt.show()\n",
    "    "
   ]
  },
  {
   "cell_type": "code",
   "execution_count": null,
   "metadata": {},
   "outputs": [],
   "source": []
  }
 ],
 "metadata": {
  "kernelspec": {
   "display_name": "Python 3",
   "language": "python",
   "name": "python3"
  },
  "language_info": {
   "codemirror_mode": {
    "name": "ipython",
    "version": 3
   },
   "file_extension": ".py",
   "mimetype": "text/x-python",
   "name": "python",
   "nbconvert_exporter": "python",
   "pygments_lexer": "ipython3",
   "version": "3.6.10"
  }
 },
 "nbformat": 4,
 "nbformat_minor": 4
}
